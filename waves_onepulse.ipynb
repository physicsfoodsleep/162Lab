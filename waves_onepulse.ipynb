{
 "cells": [
  {
   "cell_type": "code",
   "execution_count": null,
   "metadata": {},
   "outputs": [],
   "source": [
    "#\n",
    "# Waves One Pulse\n",
    "# R Jorstad\n",
    "#\n",
    "\n",
    "from vpython import *\n",
    "A = 30\n",
    "lambda = 36\n",
    "k = 2*pi/lambda\n",
    "omega = 4\n",
    "i=-100\n",
    "rope = []\n",
    "while i<=100:\n",
    "   vert_pos= A/(1+(k*(i+100))**2)\n",
    "   ball = sphere(pos=vector(i, vert_pos, 0), radius=0.7, color=color.yellow)\n",
    "   rope.append(ball)\n",
    "   i=i+1\n",
    "t=0\n",
    "delta_t=0.1\n",
    "j=-100\n",
    "while t<=100:\n",
    "   rate(10)\n",
    "   while j<=100:\n",
    "       vert_pos=A/(1+(k*(j+100)-omega*t)**2)\n",
    "       rope[j].pos=vec(j, vert_pos, 0)\n",
    "       j=j+1\n",
    "   j=-100\n",
    "   t=t+delta_t\n"
   ]
  }
 ],
 "metadata": {
  "kernelspec": {
   "display_name": "VPython",
   "language": "python",
   "name": "vpython"
  },
  "language_info": {
   "codemirror_mode": {
    "name": "ipython",
    "version": 3
   },
   "file_extension": ".py",
   "mimetype": "text/x-python",
   "name": "python",
   "nbconvert_exporter": "python",
   "pygments_lexer": "ipython3",
   "version": "3.6.7"
  }
 },
 "nbformat": 4,
 "nbformat_minor": 1
}
